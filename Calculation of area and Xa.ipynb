{
 "cells": [
  {
   "cell_type": "markdown",
   "metadata": {},
   "source": [
    "# Calculation of area and Xa"
   ]
  },
  {
   "cell_type": "code",
   "execution_count": 1,
   "metadata": {},
   "outputs": [],
   "source": [
    "%matplotlib inline"
   ]
  },
  {
   "cell_type": "code",
   "execution_count": 2,
   "metadata": {},
   "outputs": [],
   "source": [
    "import pandas as pd\n",
    "from matplotlib import pyplot as pl\n",
    "import numpy as np\n",
    "from mpl_toolkits.axes_grid1.inset_locator import inset_axes\n",
    "from math import factorial\n",
    "from scipy.optimize import curve_fit\n",
    "from scipy import stats\n",
    "import numpy as np"
   ]
  },
  {
   "cell_type": "markdown",
   "metadata": {},
   "source": [
    "The raw data of the measurements found in excel files is imported\n",
    "\n",
    "In our case, data from three variants:\n",
    "\n",
    "- DR5-GUS en Col-0\n",
    "- DR5-GUS en hyl1-2\n",
    "- DR5-GUS en se-1"
   ]
  },
  {
   "cell_type": "code",
   "execution_count": 3,
   "metadata": {},
   "outputs": [],
   "source": [
    "xl = pd.ExcelFile()"
   ]
  },
  {
   "cell_type": "code",
   "execution_count": 4,
   "metadata": {
    "scrolled": false
   },
   "outputs": [],
   "source": [
    "xl.sheet_names"
   ]
  },
  {
   "cell_type": "markdown",
   "metadata": {},
   "source": [
    "\"area\" function is defined to calculate the area under the curve."
   ]
  },
  {
   "cell_type": "code",
   "execution_count": 5,
   "metadata": {},
   "outputs": [],
   "source": [
    "def area(X,Y1):\n",
    "    A=0\n",
    "    i=1\n",
    "    while i<len(Y1):\n",
    "        A+=X[1]*((Y1[i]+Y1[i-1])/2)\n",
    "        i+=1\n",
    "    \n",
    "    return A\n"
   ]
  },
  {
   "cell_type": "markdown",
   "metadata": {},
   "source": [
    "\"xa\" function is defined to calculate the distance at which the area under the curve is divided in half."
   ]
  },
  {
   "cell_type": "code",
   "execution_count": 6,
   "metadata": {},
   "outputs": [],
   "source": [
    "def xa(X,Y1):\n",
    "    if len(X)>0:\n",
    "        areamovil=0\n",
    "        i=1\n",
    "        areatotal=area(X,Y1)\n",
    "\n",
    "        while areamovil<=areatotal/2:\n",
    "            areamovil+=X[1]*((Y1[i]+Y1[i-1])/2)\n",
    "            i+=1\n",
    "        \n",
    "        XA=X[i-1]\n",
    "    else:\n",
    "        XA=0\n",
    "    return XA\n"
   ]
  },
  {
   "cell_type": "code",
   "execution_count": 7,
   "metadata": {},
   "outputs": [],
   "source": [
    "areas_list=[]"
   ]
  },
  {
   "cell_type": "code",
   "execution_count": 8,
   "metadata": {},
   "outputs": [],
   "source": [
    "Xa_list=[]"
   ]
  },
  {
   "cell_type": "code",
   "execution_count": 9,
   "metadata": {},
   "outputs": [],
   "source": [
    "S_list=[]"
   ]
  },
  {
   "cell_type": "markdown",
   "metadata": {},
   "source": [
    "The data (X, Y) are imported to calculate the area and Xa values.\n",
    "\n",
    "If there are negative Y values, they are converted to 0."
   ]
  },
  {
   "cell_type": "code",
   "execution_count": 11,
   "metadata": {},
   "outputs": [],
   "source": [
    "for name in xl.sheet_names:\n",
    "    if name[0]=='S':\n",
    "        Y1=[]\n",
    "        df = xl.parse(name)\n",
    "        df.columns\n",
    "        datos=dict([[x,np.array(df[x][:-1])] for x in df.columns])\n",
    "        X=datos[\"X\"]\n",
    "        Y=datos[\"Y\"]\n",
    "        for i in Y:\n",
    "            if i<0:\n",
    "                Y1.append(0)\n",
    "            else:\n",
    "                Y1.append(i)\n",
    "        areas_list.append(area(X,Y1))\n",
    "        Xa_list.append(xa(X,Y))\n",
    "        S_list.append(name)"
   ]
  },
  {
   "cell_type": "code",
   "execution_count": 15,
   "metadata": {},
   "outputs": [],
   "source": [
    "Xa_list"
   ]
  },
  {
   "cell_type": "markdown",
   "metadata": {},
   "source": [
    "The Xa values are averaged."
   ]
  },
  {
   "cell_type": "code",
   "execution_count": 17,
   "metadata": {},
   "outputs": [],
   "source": [
    "R=0\n",
    "T=0\n",
    "for i in Xa_list:\n",
    "    if i!=0:\n",
    "        R+=i\n",
    "        T+=1\n",
    "        \n",
    "mean_Xa=R/T"
   ]
  },
  {
   "cell_type": "code",
   "execution_count": 19,
   "metadata": {},
   "outputs": [],
   "source": [
    "mean_Xa"
   ]
  },
  {
   "cell_type": "markdown",
   "metadata": {},
   "source": [
    "The standard deviation of the Xa values is calculated."
   ]
  },
  {
   "cell_type": "code",
   "execution_count": 20,
   "metadata": {},
   "outputs": [],
   "source": [
    "std_list=[]\n",
    "for i in Xa_list:\n",
    "    if i!=0:\n",
    "        std_list.append(i)\n",
    "std_Xa=np.std(std_list)"
   ]
  },
  {
   "cell_type": "markdown",
   "metadata": {},
   "source": [
    "The area values are averaged."
   ]
  },
  {
   "cell_type": "code",
   "execution_count": 22,
   "metadata": {},
   "outputs": [],
   "source": [
    "areas_list"
   ]
  },
  {
   "cell_type": "code",
   "execution_count": null,
   "metadata": {},
   "outputs": [],
   "source": [
    "S=0\n",
    "K=0\n",
    "for i in areas_list:\n",
    "    if i!=0:\n",
    "        S+=i\n",
    "        K+=1\n",
    "        \n",
    "mean_area=S/K"
   ]
  },
  {
   "cell_type": "code",
   "execution_count": null,
   "metadata": {},
   "outputs": [],
   "source": [
    "mean_area"
   ]
  },
  {
   "cell_type": "markdown",
   "metadata": {},
   "source": [
    "A DataFrame is setted up to display the calculated data."
   ]
  },
  {
   "cell_type": "code",
   "execution_count": null,
   "metadata": {},
   "outputs": [],
   "source": [
    "seedlings={\"Seedling\":S_list,\"Areas\":areas_list,\"Xa\":Xa_list,\"Mean Area\":mean_area,\"Mean Xa\":mean_Xa,\"Std Xa\":std_Xa}"
   ]
  },
  {
   "cell_type": "code",
   "execution_count": null,
   "metadata": {},
   "outputs": [],
   "source": [
    "all_seedlings=pd.DataFrame(seedlings)"
   ]
  },
  {
   "cell_type": "code",
   "execution_count": null,
   "metadata": {},
   "outputs": [],
   "source": [
    "all_seedlings"
   ]
  },
  {
   "cell_type": "markdown",
   "metadata": {},
   "source": [
    "The calculated data is saved in a CSV file."
   ]
  },
  {
   "cell_type": "code",
   "execution_count": null,
   "metadata": {},
   "outputs": [],
   "source": [
    "all_seedlings.to_csv(\"E3_SD4dD.csv\")"
   ]
  }
 ],
 "metadata": {
  "hide_input": false,
  "kernelspec": {
   "display_name": "Python 3",
   "language": "python",
   "name": "python3"
  },
  "language_info": {
   "codemirror_mode": {
    "name": "ipython",
    "version": 3
   },
   "file_extension": ".py",
   "mimetype": "text/x-python",
   "name": "python",
   "nbconvert_exporter": "python",
   "pygments_lexer": "ipython3",
   "version": "3.7.4"
  },
  "latex_envs": {
   "LaTeX_envs_menu_present": true,
   "autoclose": false,
   "autocomplete": true,
   "bibliofile": "biblio.bib",
   "cite_by": "apalike",
   "current_citInitial": 1,
   "eqLabelWithNumbers": true,
   "eqNumInitial": 1,
   "hotkeys": {
    "equation": "Ctrl-E",
    "itemize": "Ctrl-I"
   },
   "labels_anchors": false,
   "latex_user_defs": false,
   "report_style_numbering": false,
   "user_envs_cfg": false
  }
 },
 "nbformat": 4,
 "nbformat_minor": 2
}
